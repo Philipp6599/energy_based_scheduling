{
 "cells": [
  {
   "cell_type": "markdown",
   "id": "9db5a2f0",
   "metadata": {},
   "source": [
    "# Energy-based Optimization"
   ]
  },
  {
   "cell_type": "markdown",
   "id": "0d419b2b",
   "metadata": {},
   "source": [
    "This notebook contains the code for energy-based scheduling. First, the synthetically generated input data is read in. This is followed by the modeling of the optimization problem in Gurobi. At the end, an output with the optimal scheduling times is generated. "
   ]
  },
  {
   "cell_type": "markdown",
   "id": "58ebddd9",
   "metadata": {},
   "source": [
    "### Import Gurobi "
   ]
  },
  {
   "cell_type": "code",
   "execution_count": 1,
   "id": "ee054353",
   "metadata": {},
   "outputs": [],
   "source": [
    "import gurobipy as gp\n",
    "from gurobipy import GRB"
   ]
  },
  {
   "cell_type": "markdown",
   "id": "f9f18fdc",
   "metadata": {},
   "source": [
    "### 1) Data PreProcessing"
   ]
  },
  {
   "cell_type": "code",
   "execution_count": 11,
   "id": "d90a9ed2",
   "metadata": {},
   "outputs": [
    {
     "name": "stdout",
     "output_type": "stream",
     "text": [
      "   Termin Terminbezeichnung  Energieverbrauch  Dauer\n",
      "0       0           Termin1                80      4\n",
      "1       1           Termin2               120      6\n",
      "2       2           Termin3               100      5\n"
     ]
    }
   ],
   "source": [
    "import pandas as pd \n",
    "import datetime\n",
    "\n",
    "# read data \n",
    "df = pd.read_csv('sensor_neu.csv')\n",
    "df.drop(columns=df.columns[0], axis=1, inplace=True) # drop index column \n",
    "df['dateTime'] = pd.to_datetime(df.dateTime) # parse timestamps\n",
    "df = df.rename(columns={'output (kWh)': 'output', 'basicConsumption (kWh)': 'basic', 'managementConsumption (kWh)': 'management', 'productionConsumption (kWh)': 'production'}) # rename columns\n",
    "\n",
    "# select planing period of 2 weeks, starting with monday \n",
    "df = df[(df['dateTime'] >= '2022-07-04 00:00:00') & (df['dateTime'] <= '2022-07-17 23:00:00')]\n",
    "\n",
    "# calculate netzbezug\n",
    "df['balance'] = (df['basic'] + df['management'] + df['production']) - df['output']\n",
    "df = df.drop(['basic', 'management', 'production', 'output'], axis=1)\n",
    "\n",
    "# reformat day and hour \n",
    "df['hour'] = df['dateTime'].dt.hour\n",
    "n=24\n",
    "df['day'] = [int(i/n) for i,x in enumerate(df.index)]\n",
    "netzbezug = df\n",
    "\n",
    "# set planning times of 2 weeks \n",
    "days = [0,1,2,3,4,5,6,7,8,9,10,11,12,13]\n",
    "hours = [0,1,2,3,4,5,6,7,8,9,10,11,12,13,14,15,16,17,18,19,20,21,22,23]\n",
    "                          \n",
    "# read appointment data\n",
    "termine_df = pd.read_csv('termine.csv', sep=\";\")\n",
    "termine_energy = dict(termine_df[['Termin','Energieverbrauch']].values) \n",
    "termine_length = dict(termine_df[['Termin','Dauer']].values)\n",
    "print(termine_df)"
   ]
  },
  {
   "cell_type": "markdown",
   "id": "dce8e705",
   "metadata": {},
   "source": [
    "### 2) Create new model "
   ]
  },
  {
   "cell_type": "code",
   "execution_count": 3,
   "id": "34e495a7",
   "metadata": {},
   "outputs": [
    {
     "name": "stdout",
     "output_type": "stream",
     "text": [
      "Set parameter Username\n",
      "Academic license - for non-commercial use only - expires 2023-08-31\n"
     ]
    }
   ],
   "source": [
    "model = gp.Model(\"energy based scheduling\")"
   ]
  },
  {
   "cell_type": "markdown",
   "id": "1b54174d",
   "metadata": {},
   "source": [
    "### 3) Create variables"
   ]
  },
  {
   "cell_type": "code",
   "execution_count": 4,
   "id": "734a1a53",
   "metadata": {},
   "outputs": [],
   "source": [
    "# energy consumption per appointment\n",
    "consumption = model.addVars(days,hours,termine_energy,vtype=GRB.CONTINUOUS,name=\"consumption\")\n",
    "\n",
    "# planned start of appointment \n",
    "start = model.addVars(consumption, vtype=GRB.BINARY, name=\"start\")\n",
    "end = model.addVars(consumption, vtype=GRB.BINARY, name=\"end\")\n",
    "\n",
    "# save start day und hour as numerical value\n",
    "start_hour = model.addVars(termine_energy,vtype=GRB.CONTINUOUS,name=\"start_hour\")\n",
    "start_day = model.addVars(termine_energy,vtype=GRB.CONTINUOUS,name=\"start_day\")\n",
    "\n",
    "# save end hour as numerical value \n",
    "end_hour = model.addVars(termine_energy,vtype=GRB.CONTINUOUS,name=\"end_hour\")"
   ]
  },
  {
   "cell_type": "markdown",
   "id": "871d1a40",
   "metadata": {},
   "source": [
    "### 4) Calculate Netzbezug while appointment"
   ]
  },
  {
   "cell_type": "code",
   "execution_count": 5,
   "id": "2fa1e4cf",
   "metadata": {},
   "outputs": [],
   "source": [
    "# calculate netzbezug of appointment\n",
    "for termin in termine_energy:\n",
    "    for day in days: \n",
    "        for hour in range(0,18):\n",
    "            for i in range(0,termine_length[termin]):\n",
    "                consumption[day,hour,termin] = consumption[day,hour,termin]+netzbezug['balance'][(netzbezug['day'] == day) & (netzbezug['hour'] == hour+i)]+(termine_energy[termin]/termine_length[termin])              "
   ]
  },
  {
   "cell_type": "markdown",
   "id": "2852f71d",
   "metadata": {},
   "source": [
    "### 5) Set objective function"
   ]
  },
  {
   "cell_type": "code",
   "execution_count": 6,
   "id": "9d9bee06",
   "metadata": {},
   "outputs": [],
   "source": [
    "# minimize netzbezug\n",
    "obj = gp.quicksum((consumption[day,hour,termin]*start[day,hour,termin])\n",
    "                 for day in days for hour in hours for termin in termine_energy)\n",
    "\n",
    "model.setObjective(obj, GRB.MINIMIZE)"
   ]
  },
  {
   "cell_type": "markdown",
   "id": "022e85b7",
   "metadata": {},
   "source": [
    "### 6) Add constraints "
   ]
  },
  {
   "cell_type": "code",
   "execution_count": 7,
   "id": "dfa32fe4",
   "metadata": {},
   "outputs": [],
   "source": [
    "# weekend constraint\n",
    "for termin in termine_energy:\n",
    "    for hour in hours:\n",
    "        for day in days:\n",
    "            if day in [5,6,12,13]: \n",
    "                model.addConstr((start[day,hour,termin])==0)\n",
    "                \n",
    "# only 1 start time per appointment\n",
    "for termin in termine_energy: \n",
    "    model.addConstr(gp.quicksum(start[day,hour,termin] \n",
    "                    for day in days for hour in hours) == 1)\n",
    "\n",
    "# no overlap constraint\n",
    "for day in days: \n",
    "    for hour in hours:\n",
    "        if hour < 18:\n",
    "            model.addConstr((start[day,hour,0] == 1) >> (gp.quicksum(start[day,hour+i,1] \n",
    "                                                                 for i in range(1,termine_length[0]))==0))\n",
    "            model.addConstr((start[day,hour,1] == 1) >> (gp.quicksum(start[day,hour+i,0] \n",
    "                                                                 for i in range(1,termine_length[1]))==0))\n",
    "            model.addConstr((start[day,hour,0] == 1) >> (gp.quicksum(start[day,hour+i,2] \n",
    "                                                                 for i in range(1,termine_length[0]))==0))\n",
    "            model.addConstr((start[day,hour,2] == 1) >> (gp.quicksum(start[day,hour+i,0] \n",
    "                                                                 for i in range(1,termine_length[2]))==0))\n",
    "            model.addConstr((start[day,hour,1] == 1) >> (gp.quicksum(start[day,hour+i,2] \n",
    "                                                                 for i in range(1,termine_length[1]))==0))\n",
    "            model.addConstr((start[day,hour,2] == 1) >> (gp.quicksum(start[day,hour+i,1] \n",
    "                                                                 for i in range(1,termine_length[2]))==0))\n",
    "\n",
    "# no overlap of start times \n",
    "for day in days:\n",
    "    for hour in hours:\n",
    "        model.addConstr(start[day,hour,0]+start[day,hour,1]+start[day,hour,2]<=1)\n",
    "            \n",
    "# save start hour and day of appointment \n",
    "for termin in termine_energy: \n",
    "    for day in days: \n",
    "        for hour in hours:\n",
    "            model.addConstr((start[day,hour,termin]==1) >> (start_day[termin]==day))\n",
    "            model.addConstr((start[day,hour,termin]==1) >> (start_hour[termin]==hour))\n",
    "\n",
    "# set end time of appointment \n",
    "for termin in termine_length:            \n",
    "    model.addConstr(end_hour[termin]==start_hour[termin]+termine_length[termin])      \n",
    "    \n",
    "# end time constraint\n",
    "for termin in termine_length:            \n",
    "    model.addConstr(end_hour[termin] <= 18)      \n",
    "    \n",
    "# start time constraint \n",
    "for termin in termine_length:            \n",
    "    model.addConstr(start_hour[termin] >= 8)      "
   ]
  },
  {
   "cell_type": "markdown",
   "id": "5bbe668b",
   "metadata": {},
   "source": [
    "### 7) Optimize model"
   ]
  },
  {
   "cell_type": "code",
   "execution_count": 8,
   "id": "e34937d2",
   "metadata": {},
   "outputs": [
    {
     "name": "stdout",
     "output_type": "stream",
     "text": [
      "Gurobi Optimizer version 9.5.2 build v9.5.2rc0 (mac64[arm])\n",
      "Thread count: 10 physical cores, 10 logical processors, using up to 10 threads\n",
      "Optimize a model with 636 rows, 3033 columns and 2316 nonzeros\n",
      "Model fingerprint: 0xff86160e\n",
      "Model has 1008 quadratic objective terms\n",
      "Model has 3528 general constraints\n",
      "Variable types: 1017 continuous, 2016 integer (2016 binary)\n",
      "Coefficient statistics:\n",
      "  Matrix range     [1e+00, 1e+00]\n",
      "  Objective range  [2e-01, 2e+02]\n",
      "  QObjective range [2e+00, 2e+00]\n",
      "  Bounds range     [1e+00, 1e+00]\n",
      "  RHS range        [1e+00, 2e+01]\n",
      "  GenCon rhs range [1e+00, 2e+01]\n",
      "  GenCon coe range [1e+00, 1e+00]\n",
      "Presolve removed 401 rows and 2688 columns\n",
      "Presolve time: 0.03s\n",
      "Presolved: 235 rows, 345 columns, 1444 nonzeros\n",
      "Presolved model has 180 SOS constraint(s)\n",
      "Variable types: 165 continuous, 180 integer (180 binary)\n",
      "Found heuristic solution: objective 123.8452000\n",
      "\n",
      "Root relaxation: objective 6.946000e+00, 4 iterations, 0.00 seconds (0.00 work units)\n",
      "\n",
      "    Nodes    |    Current Node    |     Objective Bounds      |     Work\n",
      " Expl Unexpl |  Obj  Depth IntInf | Incumbent    BestBd   Gap | It/Node Time\n",
      "\n",
      "     0     0    6.94600    0    2  123.84520    6.94600  94.4%     -    0s\n",
      "H    0     0                       6.9460000    6.94600  0.00%     -    0s\n",
      "     0     0    6.94600    0    2    6.94600    6.94600  0.00%     -    0s\n",
      "\n",
      "Explored 1 nodes (4 simplex iterations) in 0.05 seconds (0.05 work units)\n",
      "Thread count was 10 (of 10 available processors)\n",
      "\n",
      "Solution count 2: 6.946 123.845 \n",
      "\n",
      "Optimal solution found (tolerance 1.00e-04)\n",
      "Best objective 6.946000000000e+00, best bound 6.946000000000e+00, gap 0.0000%\n"
     ]
    }
   ],
   "source": [
    "model.optimize()"
   ]
  },
  {
   "cell_type": "markdown",
   "id": "b18a95af",
   "metadata": {},
   "source": [
    "### 8) Generate output "
   ]
  },
  {
   "cell_type": "code",
   "execution_count": 12,
   "id": "6c427327",
   "metadata": {},
   "outputs": [
    {
     "name": "stdout",
     "output_type": "stream",
     "text": [
      "        Start_DateTime Termin\n",
      "12 2022-07-04 12:00:00      1\n",
      "61 2022-07-06 13:00:00      0\n",
      "84 2022-07-07 12:00:00      2\n"
     ]
    },
    {
     "name": "stderr",
     "output_type": "stream",
     "text": [
      "<ipython-input-12-01527c4108e6>:7: FutureWarning: The frame.append method is deprecated and will be removed from pandas in a future version. Use pandas.concat instead.\n",
      "  appointments = appointments.append({'Termin':v.VarName, 'Start_Hour':int(v.X)}, ignore_index=True)\n",
      "<ipython-input-12-01527c4108e6>:7: FutureWarning: The frame.append method is deprecated and will be removed from pandas in a future version. Use pandas.concat instead.\n",
      "  appointments = appointments.append({'Termin':v.VarName, 'Start_Hour':int(v.X)}, ignore_index=True)\n",
      "<ipython-input-12-01527c4108e6>:7: FutureWarning: The frame.append method is deprecated and will be removed from pandas in a future version. Use pandas.concat instead.\n",
      "  appointments = appointments.append({'Termin':v.VarName, 'Start_Hour':int(v.X)}, ignore_index=True)\n",
      "<ipython-input-12-01527c4108e6>:5: FutureWarning: The frame.append method is deprecated and will be removed from pandas in a future version. Use pandas.concat instead.\n",
      "  appointments = appointments.append({'Termin':v.VarName, 'Start_Day':int(v.X)}, ignore_index=True)\n",
      "<ipython-input-12-01527c4108e6>:5: FutureWarning: The frame.append method is deprecated and will be removed from pandas in a future version. Use pandas.concat instead.\n",
      "  appointments = appointments.append({'Termin':v.VarName, 'Start_Day':int(v.X)}, ignore_index=True)\n",
      "<ipython-input-12-01527c4108e6>:5: FutureWarning: The frame.append method is deprecated and will be removed from pandas in a future version. Use pandas.concat instead.\n",
      "  appointments = appointments.append({'Termin':v.VarName, 'Start_Day':int(v.X)}, ignore_index=True)\n"
     ]
    }
   ],
   "source": [
    "# save planned appointments\n",
    "appointments = pd.DataFrame(columns=['Termin', 'Start_Day', 'Start_Hour'])\n",
    "for v in model.getVars():\n",
    "    if v.VarName.startswith(\"start_day\"): \n",
    "        appointments = appointments.append({'Termin':v.VarName, 'Start_Day':int(v.X)}, ignore_index=True)                \n",
    "    if v.VarName.startswith(\"start_hour\"):\n",
    "        appointments = appointments.append({'Termin':v.VarName, 'Start_Hour':int(v.X)}, ignore_index=True)\n",
    "\n",
    "# reformat dataframe\n",
    "appointments['Termin'] = appointments['Termin'].map(lambda x: x.lstrip('start_hourday[').rstrip(']'))\n",
    "appointments = appointments.groupby(by=\"Termin\").sum().reset_index()\n",
    "\n",
    "# merge with dataframe with timestamps\n",
    "start_times = pd.merge(netzbezug, appointments,  how='left', left_on=['hour','day'], right_on = ['Start_Hour','Start_Day']).dropna()\n",
    "start_times = start_times.drop(['balance', 'Start_Day', 'Start_Hour', 'hour', 'day'], axis=1)\n",
    "start_times = start_times.rename(columns={'dateTime': 'Start_DateTime'}) # rename column\n",
    "start_times.to_csv('optimized.csv')\n",
    "\n",
    "print(start_times)"
   ]
  }
 ],
 "metadata": {
  "kernelspec": {
   "display_name": "Python 3",
   "language": "python",
   "name": "python3"
  },
  "language_info": {
   "codemirror_mode": {
    "name": "ipython",
    "version": 3
   },
   "file_extension": ".py",
   "mimetype": "text/x-python",
   "name": "python",
   "nbconvert_exporter": "python",
   "pygments_lexer": "ipython3",
   "version": "3.9.12"
  }
 },
 "nbformat": 4,
 "nbformat_minor": 5
}
